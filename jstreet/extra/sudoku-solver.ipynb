{
 "cells": [
  {
   "cell_type": "markdown",
   "id": "edaedc86-b46c-4345-b104-9a5177983643",
   "metadata": {},
   "source": [
    "## Backtracking solution."
   ]
  },
  {
   "cell_type": "code",
   "execution_count": 4,
   "id": "b03a4cbb-0f5d-439d-a472-03eff9ea257e",
   "metadata": {},
   "outputs": [],
   "source": [
    "import numpy as np\n",
    "from sudoku import Sudoku\n",
    "from itertools import product"
   ]
  },
  {
   "cell_type": "code",
   "execution_count": 255,
   "id": "01bf28e6-b751-4f04-ae05-21747ee1a7a6",
   "metadata": {},
   "outputs": [],
   "source": [
    "def check_sudoku(grid):\n",
    "    for i in range(3):\n",
    "        for j in range(3):\n",
    "            s = [\n",
    "                grid[i*3][j*3],\n",
    "                grid[i*3][j*3+1],\n",
    "                grid[i*3][j*3+2],\n",
    "                grid[i*3+1][j*3],\n",
    "                grid[i*3+1][j*3+1],\n",
    "                grid[i*3+1][j*3+2],\n",
    "                grid[i*3+2][j*3],\n",
    "                grid[i*3+2][j*3+1],\n",
    "                grid[i*3+2][j*3+2]\n",
    "            ]\n",
    "            if sum(set(s)) != sum(s):\n",
    "                return False\n",
    "    for i in range(9):\n",
    "        if sum(set(grid[i])) != sum(grid[i]):\n",
    "            return False\n",
    "    for j in range(9):\n",
    "        col = [grid[i][j] for i in range(9)]\n",
    "        if sum(set(col)) != sum(col):\n",
    "            return False\n",
    "    return True"
   ]
  },
  {
   "cell_type": "code",
   "execution_count": 220,
   "id": "d3c07a65-f17d-4c0d-ab0e-7322468d0988",
   "metadata": {},
   "outputs": [
    {
     "name": "stdout",
     "output_type": "stream",
     "text": [
      "Initial Board:\n",
      "[[5 0 0 2 0 6 0 7 4]\n",
      " [2 0 0 7 8 4 0 6 0]\n",
      " [0 6 0 1 3 5 0 0 0]\n",
      " [0 5 0 0 0 0 9 0 0]\n",
      " [0 4 0 3 0 0 5 8 0]\n",
      " [0 7 1 8 5 9 2 4 0]\n",
      " [1 3 0 0 2 0 6 9 8]\n",
      " [0 0 0 0 1 0 4 5 3]\n",
      " [0 8 5 9 4 0 0 0 0]]\n"
     ]
    }
   ],
   "source": [
    "puzzle = Sudoku(3).difficulty(.5)\n",
    "board = np.array(puzzle.board)\n",
    "\n",
    "board[board == None] = 0\n",
    "\n",
    "print(f'Initial Board:\\n{board}')"
   ]
  },
  {
   "cell_type": "code",
   "execution_count": 221,
   "id": "3f708695-171f-4b08-9445-3e556a2ae3c9",
   "metadata": {},
   "outputs": [],
   "source": [
    "def is_unique(lst):\n",
    "    return lst.shape[0] == np.unique(lst).shape[0]\n",
    "\n",
    "def can_put_number_at(x, y, n):\n",
    "    global board\n",
    "    \n",
    "    board[x][y] = n\n",
    "    row = board[x]\n",
    "    col = board[:, y]\n",
    "    res = is_unique(row[row != 0]) and is_unique(col[col != 0])\n",
    "\n",
    "    ranges = [(0,3), (3,6), (6,9)]\n",
    "    for left, right in product(ranges, ranges):\n",
    "        current = board[left[0]:left[1], right[0]:right[1]]\n",
    "        current = current[current != 0]\n",
    "        res &= is_unique(current)\n",
    "\n",
    "    board[x][y] = 0\n",
    "    return res\n",
    "\n",
    "#can_put_number_at(4,4,3)"
   ]
  },
  {
   "cell_type": "code",
   "execution_count": 222,
   "id": "ae273dc0-e7b9-48bc-b542-a413f72245f2",
   "metadata": {},
   "outputs": [],
   "source": [
    "solution_count = 0\n",
    "res_backtracking = []\n",
    "def solve():\n",
    "    global board, solution_count\n",
    "    for x in range(9):\n",
    "        for y in range(9):\n",
    "            if board[x][y] != 0:\n",
    "                continue\n",
    "            for n in range(1,10):\n",
    "                if can_put_number_at(x, y, n):\n",
    "                    board[x][y] = n\n",
    "                    solve()\n",
    "                    # backtracking step (revert to state before recursive call).\n",
    "                    board[x][y] = 0\n",
    "            return\n",
    "    \n",
    "    solution_count += 1\n",
    "    res_backtracking.append(board)\n",
    "solve()"
   ]
  },
  {
   "cell_type": "markdown",
   "id": "2f61b777-4800-467e-a2a7-f15fec153789",
   "metadata": {},
   "source": [
    "## Solution with SAT Solver"
   ]
  },
  {
   "cell_type": "code",
   "execution_count": 223,
   "id": "1202376b-44e7-49ec-aa9e-531cd13e86ae",
   "metadata": {},
   "outputs": [
    {
     "data": {
      "text/html": [
       "[y = 3, z = 2, x = 5]"
      ],
      "text/plain": [
       "[y = 3, z = 2, x = 5]"
      ]
     },
     "execution_count": 223,
     "metadata": {},
     "output_type": "execute_result"
    }
   ],
   "source": [
    "# example usage\n",
    "from z3.z3 import *\n",
    "\n",
    "x = z3.Int('x')\n",
    "y = z3.Int('y')\n",
    "z = z3.Int('z')\n",
    "\n",
    "solver = z3.Solver()\n",
    "solver.add(2 * x == 10)\n",
    "solver.add(x * y == 15)\n",
    "solver.add(x + y + z == 10)\n",
    "\n",
    "solver.check()\n",
    "solver.model()"
   ]
  },
  {
   "cell_type": "code",
   "execution_count": 268,
   "id": "3e8681c5-52bf-470f-b234-2421f6c566aa",
   "metadata": {},
   "outputs": [
    {
     "name": "stdout",
     "output_type": "stream",
     "text": [
      "[[5, 3, 4, 6, 7, 8, 9, 1, 2],\n",
      " [6, 7, 2, 1, 9, 5, 3, 4, 8],\n",
      " [1, 9, 8, 3, 4, 2, 5, 6, 7],\n",
      " [8, 5, 9, 7, 6, 1, 4, 2, 3],\n",
      " [4, 2, 6, 8, 5, 3, 7, 9, 1],\n",
      " [7, 1, 3, 9, 2, 4, 8, 5, 6],\n",
      " [9, 6, 1, 5, 3, 7, 2, 8, 4],\n",
      " [2, 8, 7, 4, 1, 9, 6, 3, 5],\n",
      " [3, 4, 5, 2, 8, 6, 1, 7, 9]]\n"
     ]
    }
   ],
   "source": [
    "X = [ [ Int(\"x_%s_%s\" % (i+1, j+1)) for j in range(9) ] \n",
    "      for i in range(9) ]\n",
    "\n",
    "# each cell contains a value in {1, ..., 9}\n",
    "cells_c  = [ And(1 <= X[i][j], X[i][j] <= 9) \n",
    "             for i in range(9) for j in range(9) ]\n",
    "\n",
    "# each row contains a digit at most once\n",
    "rows_c   = [ Distinct(X[i]) for i in range(9) ]\n",
    "\n",
    "# each column contains a digit at most once\n",
    "cols_c   = [ Distinct([ X[i][j] for i in range(9) ]) \n",
    "             for j in range(9) ]\n",
    "\n",
    "# each 3x3 square contains a digit at most once\n",
    "sq_c     = [ Distinct([ X[3*i0 + i][3*j0 + j] \n",
    "                        for i in range(3) for j in range(3) ]) \n",
    "             for i0 in range(3) for j0 in range(3) ]\n",
    "\n",
    "sudoku_c = cells_c + rows_c + cols_c + sq_c\n",
    "\n",
    "# sudoku instance, we use '0' for empty cells\n",
    "instance = ((5,3,0,0,7,0,0,0,0),\n",
    "            (6,0,0,1,9,5,0,0,0),\n",
    "            (0,9,8,0,0,0,0,6,0),\n",
    "            (8,0,0,0,6,0,0,0,3),\n",
    "            (4,0,0,8,0,3,0,0,1),\n",
    "            (7,0,0,0,2,0,0,0,6),\n",
    "            (0,6,0,0,0,0,2,8,0),\n",
    "            (0,0,0,4,1,9,0,0,5),\n",
    "            (0,0,0,0,8,0,0,7,9))\n",
    "\n",
    "instance_c = [ If(instance[i][j] == 0, \n",
    "                  True, \n",
    "                  X[i][j] == instance[i][j]) \n",
    "               for i in range(9) for j in range(9) ]\n",
    "\n",
    "s = Solver()\n",
    "s.add(sudoku_c + instance_c)\n",
    "if s.check() == sat:\n",
    "    m = s.model()\n",
    "    res_sat_solver = [ [ m.evaluate(X[i][j]) for j in range(9) ] \n",
    "          for i in range(9) ]\n",
    "    print_matrix(res_sat_solver)\n",
    "else:\n",
    "    print('failed to solve puzzle')"
   ]
  },
  {
   "cell_type": "code",
   "execution_count": 270,
   "id": "936c4a0a-e52f-4351-8195-ec5d8af87004",
   "metadata": {},
   "outputs": [],
   "source": [
    "sat_to_ints = [[5, 3, 4, 6, 7, 8, 9, 1, 2],\n",
    " [6, 7, 2, 1, 9, 5, 3, 4, 8],\n",
    " [1, 9, 8, 3, 4, 2, 5, 6, 7],\n",
    " [8, 5, 9, 7, 6, 1, 4, 2, 3],\n",
    " [4, 2, 6, 8, 5, 3, 7, 9, 1],\n",
    " [7, 1, 3, 9, 2, 4, 8, 5, 6],\n",
    " [9, 6, 1, 5, 3, 7, 2, 8, 4],\n",
    " [2, 8, 7, 4, 1, 9, 6, 3, 5],\n",
    " [3, 4, 5, 2, 8, 6, 1, 7, 9]]"
   ]
  },
  {
   "cell_type": "code",
   "execution_count": 271,
   "id": "50a221af-d913-4d89-b924-0a4340a958b1",
   "metadata": {},
   "outputs": [
    {
     "name": "stdout",
     "output_type": "stream",
     "text": [
      "\n",
      "---------------------------\n",
      "9x9 (3x3) SUDOKU PUZZLE\n",
      "Difficulty: SOLVED\n",
      "---------------------------\n",
      "+-------+-------+-------+\n",
      "| 5 1 8 | 2 9 6 | 3 7 4 |\n",
      "| 2 9 3 | 7 8 4 | 1 6 5 |\n",
      "| 4 6 7 | 1 3 5 | 8 2 9 |\n",
      "+-------+-------+-------+\n",
      "| 8 5 2 | 4 6 1 | 9 3 7 |\n",
      "| 9 4 6 | 3 7 2 | 5 8 1 |\n",
      "| 3 7 1 | 8 5 9 | 2 4 6 |\n",
      "+-------+-------+-------+\n",
      "| 1 3 4 | 5 2 7 | 6 9 8 |\n",
      "| 7 2 9 | 6 1 8 | 4 5 3 |\n",
      "| 6 8 5 | 9 4 3 | 7 1 2 |\n",
      "+-------+-------+-------+\n",
      "\n",
      "        \n",
      "True\n",
      "True\n",
      "True\n"
     ]
    }
   ],
   "source": [
    "puzzle.solve().show_full()\n",
    "\n",
    "# validate solutions\n",
    "for rb in res_backtracking:\n",
    "    print(check_sudoku(rb))\n",
    "print(check_sudoku(sat_to_ints))"
   ]
  },
  {
   "cell_type": "markdown",
   "id": "5e969540-0cf9-4194-8b26-ef691405bd9c",
   "metadata": {},
   "source": [
    "## SAT solution with Numpy"
   ]
  },
  {
   "cell_type": "code",
   "execution_count": 10,
   "id": "a9cf9d31-e61d-4ace-bc57-2cbf0a5cfa56",
   "metadata": {},
   "outputs": [
    {
     "name": "stdout",
     "output_type": "stream",
     "text": [
      "Initial Board:\n",
      "[[4 7 0 0 2 0 8 0 0]\n",
      " [0 0 8 4 3 0 5 9 0]\n",
      " [2 0 3 8 1 9 4 6 7]\n",
      " [0 8 0 9 0 3 0 4 1]\n",
      " [9 0 1 0 0 0 3 8 5]\n",
      " [0 0 0 0 4 8 0 7 0]\n",
      " [0 0 5 7 0 4 0 0 0]\n",
      " [0 9 0 0 0 0 0 0 0]\n",
      " [1 6 0 3 8 0 9 2 4]]\n"
     ]
    }
   ],
   "source": [
    "from z3.z3 import *\n",
    "\n",
    "puzzle = Sudoku(3).difficulty(.5)\n",
    "board = np.array(puzzle.board)\n",
    "\n",
    "board[board == None] = 0\n",
    "\n",
    "print(f'Initial Board:\\n{board}')"
   ]
  },
  {
   "cell_type": "code",
   "execution_count": 22,
   "id": "89146315-988a-4c8c-bde2-834c50b6c246",
   "metadata": {},
   "outputs": [],
   "source": [
    "board = np.array([\n",
    "    [Int(f'x_{i}_{j}') for j in range(9)]\n",
    "    for i in range(9)\n",
    "])"
   ]
  },
  {
   "cell_type": "code",
   "execution_count": 33,
   "id": "c6f772d0-8fc9-42a3-8e3d-535aca320445",
   "metadata": {},
   "outputs": [
    {
     "data": {
      "text/plain": [
       "array([[x_0_0, x_0_1, x_0_2],\n",
       "       [x_1_0, x_1_1, x_1_2],\n",
       "       [x_2_0, x_2_1, x_2_2]], dtype=object)"
      ]
     },
     "execution_count": 33,
     "metadata": {},
     "output_type": "execute_result"
    }
   ],
   "source": [
    "board[0:3,0:3]"
   ]
  },
  {
   "cell_type": "code",
   "execution_count": 38,
   "id": "ccb569fc-2a7f-4b35-8a3e-126973197b4f",
   "metadata": {},
   "outputs": [],
   "source": [
    "# we need to do BFS/DFS to search through a potential solution's grid\n",
    "# and figure out if we can -> visit ALL numbered cells in one go (one connected region)"
   ]
  }
 ],
 "metadata": {
  "kernelspec": {
   "display_name": "Python 3 (ipykernel)",
   "language": "python",
   "name": "python3"
  },
  "language_info": {
   "codemirror_mode": {
    "name": "ipython",
    "version": 3
   },
   "file_extension": ".py",
   "mimetype": "text/x-python",
   "name": "python",
   "nbconvert_exporter": "python",
   "pygments_lexer": "ipython3",
   "version": "3.9.7"
  }
 },
 "nbformat": 4,
 "nbformat_minor": 5
}
