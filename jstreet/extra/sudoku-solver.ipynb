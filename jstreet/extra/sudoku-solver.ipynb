{
 "cells": [
  {
   "cell_type": "code",
   "execution_count": 24,
   "id": "0b5375ae-73cd-46be-b547-9a97b1478b1f",
   "metadata": {},
   "outputs": [],
   "source": [
    "import numpy as np\n",
    "from sudoku import Sudoku\n",
    "from itertools import product"
   ]
  },
  {
   "cell_type": "code",
   "execution_count": 87,
   "id": "3f708695-171f-4b08-9445-3e556a2ae3c9",
   "metadata": {},
   "outputs": [
    {
     "data": {
      "text/plain": [
       "True"
      ]
     },
     "execution_count": 87,
     "metadata": {},
     "output_type": "execute_result"
    }
   ],
   "source": [
    "def is_unique(lst):\n",
    "    return lst.shape[0] == np.unique(lst).shape[0]\n",
    "\n",
    "def can_put_number_at(x, y, n):\n",
    "    global board\n",
    "    \n",
    "    board[x][y] = n\n",
    "    row = board[x]\n",
    "    col = board[:, y]\n",
    "    res = is_unique(row[row != 0]) and is_unique(col[col != 0])\n",
    "\n",
    "    ranges = [(0,3), (3,6), (6,9)]\n",
    "    for left, right in product(ranges, ranges):\n",
    "        current = board[left[0]:left[1], right[0]:right[1]]\n",
    "        current = current[current != 0]\n",
    "        res &= is_unique(current)\n",
    "\n",
    "    board[x][y] = 0\n",
    "    return res\n",
    "\n",
    "can_put_number_at(4,4,3)"
   ]
  },
  {
   "cell_type": "code",
   "execution_count": 121,
   "id": "ae273dc0-e7b9-48bc-b542-a413f72245f2",
   "metadata": {},
   "outputs": [],
   "source": [
    "def solve():\n",
    "    global board, solution_count\n",
    "    for x in range(9):\n",
    "        for y in range(9):\n",
    "            if board[x][y] != 0:\n",
    "                continue\n",
    "            for n in range(1,10):\n",
    "                if can_put_number_at(x, y, n):\n",
    "                    board[x][y] = n\n",
    "                    solve()\n",
    "                    # backtracking step (revert to state before recursive call).\n",
    "                    board[x][y] = 0\n",
    "            return\n",
    "    \n",
    "    solution_count += 1\n",
    "    print(f'\\nSolution #{solution_count}')\n",
    "    print(board, board[board != 0].shape[0])"
   ]
  },
  {
   "cell_type": "code",
   "execution_count": 122,
   "id": "fb067182-df2f-42f4-ae92-4246df0c7c2b",
   "metadata": {
    "tags": []
   },
   "outputs": [
    {
     "name": "stdout",
     "output_type": "stream",
     "text": [
      "Initial Board:\n",
      "[[6 0 0 1 0 3 4 0 0]\n",
      " [2 9 0 0 5 4 0 0 0]\n",
      " [3 0 4 0 9 0 0 0 7]\n",
      " [0 0 0 0 0 0 7 9 6]\n",
      " [1 6 7 0 0 9 8 0 2]\n",
      " [8 0 0 6 4 7 3 1 5]\n",
      " [5 1 0 3 7 2 0 0 4]\n",
      " [0 0 0 0 0 0 5 7 0]\n",
      " [7 4 0 9 0 5 0 6 0]]\n",
      "\n",
      "Solution #1\n",
      "[[6 7 5 1 8 3 4 2 9]\n",
      " [2 9 1 7 5 4 6 3 8]\n",
      " [3 8 4 2 9 6 1 5 7]\n",
      " [4 5 3 8 2 1 7 9 6]\n",
      " [1 6 7 5 3 9 8 4 2]\n",
      " [8 2 9 6 4 7 3 1 5]\n",
      " [5 1 6 3 7 2 9 8 4]\n",
      " [9 3 2 4 6 8 5 7 1]\n",
      " [7 4 8 9 1 5 2 6 3]] 81\n",
      "\n",
      "Solution #2\n",
      "[[6 7 8 1 2 3 4 5 9]\n",
      " [2 9 1 7 5 4 6 3 8]\n",
      " [3 5 4 8 9 6 1 2 7]\n",
      " [4 3 5 2 1 8 7 9 6]\n",
      " [1 6 7 5 3 9 8 4 2]\n",
      " [8 2 9 6 4 7 3 1 5]\n",
      " [5 1 6 3 7 2 9 8 4]\n",
      " [9 8 2 4 6 1 5 7 3]\n",
      " [7 4 3 9 8 5 2 6 1]] 81\n"
     ]
    }
   ],
   "source": [
    "puzzle = Sudoku(3).difficulty(.5)\n",
    "board = np.array(puzzle.board)\n",
    "\n",
    "solution_count = 0\n",
    "board[board == None] = 0\n",
    "\n",
    "print(f'Initial Board:\\n{board}')\n",
    "solve()"
   ]
  },
  {
   "cell_type": "code",
   "execution_count": 123,
   "id": "c40b6ed9-6f7d-4b8c-8d1d-92face0f9208",
   "metadata": {},
   "outputs": [],
   "source": [
    "res = puzzle.solve()"
   ]
  },
  {
   "cell_type": "code",
   "execution_count": 124,
   "id": "0954f5d9-23ab-43b0-b13b-c0026f489a3b",
   "metadata": {},
   "outputs": [
    {
     "name": "stdout",
     "output_type": "stream",
     "text": [
      "\n",
      "---------------------------\n",
      "9x9 (3x3) SUDOKU PUZZLE\n",
      "Difficulty: SOLVED\n",
      "---------------------------\n",
      "+-------+-------+-------+\n",
      "| 6 7 5 | 1 8 3 | 4 2 9 |\n",
      "| 2 9 1 | 7 5 4 | 6 3 8 |\n",
      "| 3 8 4 | 2 9 6 | 1 5 7 |\n",
      "+-------+-------+-------+\n",
      "| 4 5 3 | 8 2 1 | 7 9 6 |\n",
      "| 1 6 7 | 5 3 9 | 8 4 2 |\n",
      "| 8 2 9 | 6 4 7 | 3 1 5 |\n",
      "+-------+-------+-------+\n",
      "| 5 1 6 | 3 7 2 | 9 8 4 |\n",
      "| 9 3 2 | 4 6 8 | 5 7 1 |\n",
      "| 7 4 8 | 9 1 5 | 2 6 3 |\n",
      "+-------+-------+-------+\n",
      "\n",
      "        \n"
     ]
    }
   ],
   "source": [
    "res.show_full()"
   ]
  },
  {
   "cell_type": "code",
   "execution_count": null,
   "id": "8b6f5833-9662-44de-99c0-3171974e4bfe",
   "metadata": {},
   "outputs": [],
   "source": [
    "\n"
   ]
  }
 ],
 "metadata": {
  "kernelspec": {
   "display_name": "Python 3 (ipykernel)",
   "language": "python",
   "name": "python3"
  },
  "language_info": {
   "codemirror_mode": {
    "name": "ipython",
    "version": 3
   },
   "file_extension": ".py",
   "mimetype": "text/x-python",
   "name": "python",
   "nbconvert_exporter": "python",
   "pygments_lexer": "ipython3",
   "version": "3.9.7"
  }
 },
 "nbformat": 4,
 "nbformat_minor": 5
}
