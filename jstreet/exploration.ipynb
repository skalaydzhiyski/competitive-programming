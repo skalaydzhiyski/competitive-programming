{
 "cells": [
  {
   "cell_type": "code",
   "execution_count": 4,
   "id": "88d6e8f3-d3d3-47ab-ae7f-10d839ba9701",
   "metadata": {},
   "outputs": [],
   "source": [
    "import numpy as np\n",
    "from z3.z3 import *"
   ]
  },
  {
   "cell_type": "code",
   "execution_count": 3,
   "id": "34445548-c940-4232-964e-e3a241fc063b",
   "metadata": {},
   "outputs": [
    {
     "name": "stdout",
     "output_type": "stream",
     "text": [
      "working brother\n"
     ]
    }
   ],
   "source": [
    "print(\"working brother\")"
   ]
  }
 ],
 "metadata": {
  "kernelspec": {
   "display_name": "Python 3 (ipykernel)",
   "language": "python",
   "name": "python3"
  },
  "language_info": {
   "codemirror_mode": {
    "name": "ipython",
    "version": 3
   },
   "file_extension": ".py",
   "mimetype": "text/x-python",
   "name": "python",
   "nbconvert_exporter": "python",
   "pygments_lexer": "ipython3",
   "version": "3.9.7"
  }
 },
 "nbformat": 4,
 "nbformat_minor": 5
}
