{
 "cells": [
  {
   "cell_type": "code",
   "execution_count": 28,
   "id": "15d7413f-77d3-4123-b4ae-64ccddf571a7",
   "metadata": {},
   "outputs": [],
   "source": [
    "import numpy as np\n",
    "import matplotlib.pyplot as plt\n",
    "from collections import defaultdict\n",
    "import seaborn as sns\n",
    "import pandas as pd\n",
    "import matplotlib.pyplot as plt\n",
    "plt.rcParams['figure.figsize'] = [12, 7]"
   ]
  },
  {
   "cell_type": "code",
   "execution_count": 5,
   "id": "3c49a039-9005-449b-a25e-ca26f858916e",
   "metadata": {},
   "outputs": [],
   "source": [
    "def step(corners):\n",
    "    new = corners.copy()\n",
    "    new[0] = abs(corners[0] - corners[1])\n",
    "    new[1] = abs(corners[1] - corners[2])\n",
    "    new[2] = abs(corners[2] - corners[3])\n",
    "    new[3] = abs(corners[3] - corners[0])\n",
    "    return new"
   ]
  },
  {
   "cell_type": "code",
   "execution_count": 6,
   "id": "11730006-87f6-4946-95b8-b4ca96f6eead",
   "metadata": {},
   "outputs": [],
   "source": [
    "def f(corners, verbose=False):\n",
    "    x = corners\n",
    "    res = 0\n",
    "    while x != [0,0,0,0]:\n",
    "        x = step(x)\n",
    "        res += 1\n",
    "        if verbose: print(x)\n",
    "    return res + 1"
   ]
  },
  {
   "cell_type": "code",
   "execution_count": 30,
   "id": "f7531688-8b07-47ff-9677-290dab11bcd5",
   "metadata": {},
   "outputs": [
    {
     "data": {
      "text/plain": [
       "(100, 100)"
      ]
     },
     "execution_count": 30,
     "metadata": {},
     "output_type": "execute_result"
    }
   ],
   "source": [
    "def plot_test():\n",
    "    res = []\n",
    "    idx = []\n",
    "    for x in range(100):\n",
    "        x = [0,7,20,x]\n",
    "        fx = f(x)\n",
    "        #print(x, fx)\n",
    "        res.append(fx)\n",
    "        idx.append(x)\n",
    "    return idx, res\n",
    "idx, res = plot_test()\n",
    "len(idx), len(res)"
   ]
  },
  {
   "cell_type": "code",
   "execution_count": 31,
   "id": "2f1de0a7-dac0-4db3-941a-9056db5b29af",
   "metadata": {},
   "outputs": [
    {
     "data": {
      "text/plain": [
       "<AxesSubplot: >"
      ]
     },
     "execution_count": 31,
     "metadata": {},
     "output_type": "execute_result"
    },
    {
     "data": {
      "image/png": "[encoded data removed]",
      "text/plain": [
       "<Figure size 864x504 with 1 Axes>"
      ]
     },
     "metadata": {
      "needs_background": "light"
     },
     "output_type": "display_data"
    }
   ],
   "source": [
    "df = pd.DataFrame({'x': idx, 'y': res})\n",
    "df.plot()"
   ]
  },
  {
   "cell_type": "code",
   "execution_count": 50,
   "id": "e9d8cfe6-1958-4c47-b897-850704901e20",
   "metadata": {},
   "outputs": [
    {
     "name": "stdout",
     "output_type": "stream",
     "text": [
      "[0, 0, 0, 0] \tfx =  1\n",
      "[0, 0, 0, 1] \tfx =  5\n",
      "[0, 0, 1, 3] \tfx =  7\n",
      "[0, 1, 2, 4] \tfx =  8\n",
      "[0, 1, 4, 9] \tfx =  9\n",
      "[0, 2, 5, 11] \tfx =  10\n",
      "[0, 2, 6, 13] \tfx =  11\n",
      "[0, 5, 14, 31] \tfx =  12\n",
      "[0, 6, 17, 37] \tfx =  13\n",
      "[0, 7, 20, 44] \tfx =  14\n",
      "22.13291311264038\n"
     ]
    }
   ],
   "source": [
    "from time import time\n",
    "t0 = time()\n",
    "\n",
    "m = ([], 0)\n",
    "upper = 50\n",
    "for a in range(upper):\n",
    "    for b in range(upper):\n",
    "        for c in range(upper):\n",
    "            for d in range(upper):\n",
    "                x = [a,b,c,d]\n",
    "                fx = f(x)\n",
    "                if fx > m[1]:\n",
    "                    m = (x, fx)\n",
    "                    print(x, '\\tfx = ', fx)\n",
    "\n",
    "print(time() - t0)"
   ]
  },
  {
   "cell_type": "markdown",
   "id": "bab3cb35-5feb-4c24-8d5b-3af77f939ce2",
   "metadata": {},
   "source": [
    "Examples of bigger scores...\n",
    "[0, 500, 228, 80] \tfx =  16\n",
    "[0, 1000, 2839, 6222] \tfx =  21"
   ]
  },
  {
   "cell_type": "markdown",
   "id": "7d42ed00-a8f8-4eca-b123-083ab835e25b",
   "metadata": {},
   "source": [
    "### IMPORTANT (Laws of equality of `f`)!\n",
    "Regardless of the rotation of the numbers we still get the same value for f!\n",
    "\n",
    "Example: f(0,2,6,13) = f(2,6,13,0) = f(6,13,0,2) = f(13,0,2,6)\n",
    "\n",
    "---\n",
    "\n",
    "Regardless of order (forward or backward) we get the same value for f!\n",
    "\n",
    "Example: f(0,2,6,13) = f(13,6,2,0)\n",
    "\n",
    "---\n",
    "\n",
    "Combining both laws we get\n",
    "                    normal order                              reverse order\n",
    "f(0,2,6,13) = f(2,6,13,0) = f(6,13,0,2) = f(13,0,2,6)  =  f(13,6,2,0) = f(6,2,0,13) = ..."
   ]
  },
  {
   "cell_type": "code",
   "execution_count": 168,
   "id": "b3941d15-42ae-42cf-a43a-107bacdfa74c",
   "metadata": {},
   "outputs": [
    {
     "name": "stdout",
     "output_type": "stream",
     "text": [
      "11\n",
      "11\n",
      "11\n",
      "11\n",
      "11\n",
      "11\n",
      "11\n",
      "11\n",
      "This should drastically reduce the search space, so please have a look :)\n"
     ]
    }
   ],
   "source": [
    "tests = [\n",
    "    [0,2,6,13],\n",
    "    [2,6,13,0],\n",
    "    [6,13,0,2],\n",
    "    [13,0,2,6],\n",
    "    # flips retain value for `f`\n",
    "    [13,6,2,0],\n",
    "    [6,2,0,13],\n",
    "    [2,0,13,6],\n",
    "    [0,13,6,2]\n",
    "]\n",
    "for t in tests:\n",
    "    print(f(t))\n",
    "print('This should drastically reduce the search space, so please have a look :)')\n",
    "# how to reduce the search space ???"
   ]
  },
  {
   "cell_type": "code",
   "execution_count": 7,
   "id": "7deaf072-826c-4ec4-9a3d-2742e2fbb4c5",
   "metadata": {},
   "outputs": [
    {
     "name": "stdout",
     "output_type": "stream",
     "text": [
      "True\n",
      "True\n"
     ]
    }
   ],
   "source": [
    "print(\n",
    "    f([1,2,3,4]) == f([4,3,2,1])\n",
    ")\n",
    "print(\n",
    "    f([1,2,3,4]) == f([1001, 1002, 1003, 1004])\n",
    ")"
   ]
  },
  {
   "cell_type": "code",
   "execution_count": 8,
   "id": "09ccf45f-dace-4073-9bd3-b5301793a585",
   "metadata": {},
   "outputs": [
    {
     "name": "stdout",
     "output_type": "stream",
     "text": [
      "[123, 122, 251, 496]\n",
      "[1, 129, 245, 373]\n",
      "[128, 116, 128, 372]\n",
      "[12, 12, 244, 244]\n",
      "[0, 232, 0, 232]\n",
      "[232, 232, 232, 232]\n",
      "[0, 0, 0, 0]\n"
     ]
    },
    {
     "data": {
      "text/plain": [
       "8"
      ]
     },
     "execution_count": 8,
     "metadata": {},
     "output_type": "execute_result"
    }
   ],
   "source": [
    "f([0, 123, (2*123)-1, (2*(2*123))+4], verbose=True)"
   ]
  },
  {
   "cell_type": "markdown",
   "id": "9fa4a57a-ed2d-4af9-8d01-f8d6dc2f452a",
   "metadata": {},
   "source": [
    "### IMPORTANT: Distances matter, not the values themselves !"
   ]
  },
  {
   "cell_type": "code",
   "execution_count": 8,
   "id": "36dd480d-51d6-46a6-bc03-a0eeae51f9e0",
   "metadata": {},
   "outputs": [
    {
     "name": "stdout",
     "output_type": "stream",
     "text": [
      "True\n",
      "True\n"
     ]
    }
   ],
   "source": [
    "print(\n",
    "    f([1,2,3,4]) == f([4,3,2,1])\n",
    ")\n",
    "print(\n",
    "    f([1,2,3,4]) == f([9999995, 9999996, 9999997, 9999998])\n",
    ")"
   ]
  },
  {
   "cell_type": "code",
   "execution_count": 121,
   "id": "f7a1f188-321f-4f19-80e5-3b0f5dad176f",
   "metadata": {},
   "outputs": [
    {
     "name": "stdout",
     "output_type": "stream",
     "text": [
      "[0, 0, 1, 1]\n",
      "[0, 1, 0, 1]\n",
      "[1, 1, 1, 1]\n",
      "[0, 0, 0, 0]\n"
     ]
    },
    {
     "data": {
      "text/plain": [
       "5"
      ]
     },
     "execution_count": 121,
     "metadata": {},
     "output_type": "execute_result"
    }
   ],
   "source": [
    "f([0,0,0,1], verbose=True)"
   ]
  },
  {
   "cell_type": "code",
   "execution_count": 123,
   "id": "69d92a29-7515-4710-9187-8f132b345c4e",
   "metadata": {},
   "outputs": [
    {
     "name": "stdout",
     "output_type": "stream",
     "text": [
      "[0, 1, 2, 3]\n",
      "[1, 1, 1, 3]\n",
      "[0, 0, 2, 2]\n",
      "[0, 2, 0, 2]\n",
      "[2, 2, 2, 2]\n",
      "[0, 0, 0, 0]\n"
     ]
    },
    {
     "data": {
      "text/plain": [
       "7"
      ]
     },
     "execution_count": 123,
     "metadata": {},
     "output_type": "execute_result"
    }
   ],
   "source": [
    "f([0,0,1,3], verbose=True)"
   ]
  },
  {
   "cell_type": "code",
   "execution_count": 28,
   "id": "e7153342-b5bc-4ac5-93ec-99a970210b1a",
   "metadata": {},
   "outputs": [
    {
     "name": "stdout",
     "output_type": "stream",
     "text": [
      "[1, 1, 2, 4]\n",
      "[0, 1, 2, 3]\n",
      "[1, 1, 1, 3]\n",
      "[0, 0, 2, 2]\n",
      "[0, 2, 0, 2]\n",
      "[2, 2, 2, 2]\n",
      "[0, 0, 0, 0]\n"
     ]
    },
    {
     "data": {
      "text/plain": [
       "8"
      ]
     },
     "execution_count": 28,
     "metadata": {},
     "output_type": "execute_result"
    }
   ],
   "source": [
    "f([0,1,2,4], verbose=True)"
   ]
  },
  {
   "cell_type": "code",
   "execution_count": 29,
   "id": "5b597012-8157-47ca-8a5c-815b4407d403",
   "metadata": {},
   "outputs": [
    {
     "name": "stdout",
     "output_type": "stream",
     "text": [
      "[1, 2, 995, 998]\n",
      "[1, 993, 3, 997]\n",
      "[992, 990, 994, 996]\n",
      "[2, 4, 2, 4]\n",
      "[2, 2, 2, 2]\n",
      "[0, 0, 0, 0]\n"
     ]
    },
    {
     "data": {
      "text/plain": [
       "7"
      ]
     },
     "execution_count": 29,
     "metadata": {},
     "output_type": "execute_result"
    }
   ],
   "source": [
    "f([1,2,4,999], verbose=True)"
   ]
  },
  {
   "cell_type": "code",
   "execution_count": 9,
   "id": "5f0dd220-b4cd-4c4f-bdbb-7f98611b20a7",
   "metadata": {},
   "outputs": [
    {
     "name": "stdout",
     "output_type": "stream",
     "text": [
      "[7, 13, 24, 44]\n",
      "[6, 11, 20, 37]\n",
      "[5, 9, 17, 31]\n",
      "[4, 8, 14, 26]\n",
      "[4, 6, 12, 22]\n",
      "[2, 6, 10, 18]\n",
      "[4, 4, 8, 16]\n",
      "[0, 4, 8, 12]\n",
      "[4, 4, 4, 12]\n",
      "[0, 0, 8, 8]\n",
      "[0, 8, 0, 8]\n",
      "[8, 8, 8, 8]\n",
      "[0, 0, 0, 0]\n"
     ]
    },
    {
     "data": {
      "text/plain": [
       "14"
      ]
     },
     "execution_count": 9,
     "metadata": {},
     "output_type": "execute_result"
    }
   ],
   "source": [
    "f([0, 7, 20, 44], verbose=True)"
   ]
  },
  {
   "cell_type": "code",
   "execution_count": 183,
   "id": "6278fe9f-1f1f-4d50-886c-c8da0db227f1",
   "metadata": {},
   "outputs": [
    {
     "name": "stdout",
     "output_type": "stream",
     "text": [
      "[1000, 1839, 3383, 6222]\n",
      "[839, 1544, 2839, 5222]\n",
      "[705, 1295, 2383, 4383]\n",
      "[590, 1088, 2000, 3678]\n",
      "[498, 912, 1678, 3088]\n",
      "[414, 766, 1410, 2590]\n",
      "[352, 644, 1180, 2176]\n",
      "[292, 536, 996, 1824]\n",
      "[244, 460, 828, 1532]\n",
      "[216, 368, 704, 1288]\n",
      "[152, 336, 584, 1072]\n",
      "[184, 248, 488, 920]\n",
      "[64, 240, 432, 736]\n",
      "[176, 192, 304, 672]\n",
      "[16, 112, 368, 496]\n",
      "[96, 256, 128, 480]\n",
      "[160, 128, 352, 384]\n",
      "[32, 224, 32, 224]\n",
      "[192, 192, 192, 192]\n",
      "[0, 0, 0, 0]\n"
     ]
    },
    {
     "data": {
      "text/plain": [
       "21"
      ]
     },
     "execution_count": 183,
     "metadata": {},
     "output_type": "execute_result"
    }
   ],
   "source": [
    "f([0, 1000, 2839, 6222], verbose=True)"
   ]
  },
  {
   "cell_type": "code",
   "execution_count": 52,
   "id": "47d537f0-acc1-4d0f-b273-3f3fc304ec49",
   "metadata": {},
   "outputs": [
    {
     "name": "stdout",
     "output_type": "stream",
     "text": [
      "[7, 13, 24, 44]\n",
      "[6, 11, 20, 37]\n",
      "[5, 9, 17, 31]\n",
      "[4, 8, 14, 26]\n",
      "[4, 6, 12, 22]\n",
      "[2, 6, 10, 18]\n",
      "[4, 4, 8, 16]\n",
      "[0, 4, 8, 12]\n",
      "[4, 4, 4, 12]\n",
      "[0, 0, 8, 8]\n",
      "[0, 8, 0, 8]\n",
      "[8, 8, 8, 8]\n",
      "[0, 0, 0, 0]\n"
     ]
    },
    {
     "data": {
      "text/plain": [
       "14"
      ]
     },
     "execution_count": 52,
     "metadata": {},
     "output_type": "execute_result"
    }
   ],
   "source": [
    "f([0, 7, 20, 44], verbose=True)"
   ]
  },
  {
   "cell_type": "markdown",
   "id": "19154475-2885-4819-b45b-f61377809c51",
   "metadata": {},
   "source": [
    "### Find patterns of repeatability."
   ]
  },
  {
   "cell_type": "code",
   "execution_count": 54,
   "id": "864aaefe-e753-46c9-a735-129c6853c08c",
   "metadata": {},
   "outputs": [],
   "source": [
    "# Repeatable sets of pairs are pairs that all reduce down to (0,0,0,0)\n",
    "# The distance between max values ALWAYS grows!"
   ]
  },
  {
   "cell_type": "code",
   "execution_count": null,
   "id": "cd0b8071-c536-404a-92b0-1b95ec46e9c4",
   "metadata": {},
   "outputs": [
    {
     "name": "stdout",
     "output_type": "stream",
     "text": [
      "(a,b,c,d) =  [0, 0, 0, 0] \t\tdistances = (0, 0, 0, 0) \tfx =  1\n",
      "(a,b,c,d) =  [0, 0, 0, 1] \t\tdistances = (0, 0, 1, 1) \tfx =  5\n",
      "(a,b,c,d) =  [0, 0, 1, 3] \t\tdistances = (0, 1, 2, 3) \tfx =  7\n",
      "(a,b,c,d) =  [0, 1, 2, 4] \t\tdistances = (1, 1, 2, 4) \tfx =  8\n",
      "(a,b,c,d) =  [0, 1, 4, 9] \t\tdistances = (1, 3, 5, 9) \tfx =  9\n",
      "(a,b,c,d) =  [0, 2, 5, 11] \t\tdistances = (2, 3, 6, 11) \tfx =  10\n",
      "(a,b,c,d) =  [0, 2, 6, 13] \t\tdistances = (2, 4, 7, 13) \tfx =  11\n",
      "(a,b,c,d) =  [0, 5, 14, 31] \t\tdistances = (5, 9, 17, 31) \tfx =  12\n",
      "(a,b,c,d) =  [0, 6, 17, 37] \t\tdistances = (6, 11, 20, 37) \tfx =  13\n",
      "(a,b,c,d) =  [0, 7, 20, 44] \t\tdistances = (7, 13, 24, 44) \tfx =  14\n",
      "(a,b,c,d) =  [0, 17, 48, 105] \t\tdistances = (17, 31, 57, 105) \tfx =  15\n",
      "(a,b,c,d) =  [0, 20, 57, 125] \t\tdistances = (20, 37, 68, 125) \tfx =  16\n",
      "(a,b,c,d) =  [0, 24, 68, 149] \t\tdistances = (24, 44, 81, 149) \tfx =  17\n",
      "(a,b,c,d) =  [0, 57, 162, 355] \t\tdistances = (57, 105, 193, 355) \tfx =  18\n",
      "(a,b,c,d) =  [0, 68, 193, 423] \t\tdistances = (68, 125, 230, 423) \tfx =  19\n",
      "(a,b,c,d) =  [0, 81, 230, 504] \t\tdistances = (81, 149, 274, 504) \tfx =  20\n"
     ]
    }
   ],
   "source": [
    "t0 = time()\n",
    "upper = 1000\n",
    "m = 0\n",
    "\n",
    "res = []\n",
    "a = 0\n",
    "for b in range(upper):\n",
    "    for c in range(b, upper):\n",
    "        for d in range(c, upper):\n",
    "            x = [a,b,c,d]\n",
    "            r = (abs(a-b), abs(b-c), abs(c-d), abs(d-a))\n",
    "            fx = f(x)\n",
    "            if fx > m:\n",
    "                m = fx\n",
    "                res.append(r)\n",
    "                print('(a,b,c,d) = ', x, '\\t\\tdistances =', r, '\\tfx = ', fx)\n",
    "print(time() - t0)"
   ]
  },
  {
   "cell_type": "code",
   "execution_count": null,
   "id": "8107a51d-38b5-4af8-ae7c-0cb64fd04b36",
   "metadata": {},
   "outputs": [],
   "source": [
    "df = pd.DataFrame(res, columns=['ab', 'bc', 'cd', 'da'])\n",
    "df.plot() # the diffs between maxes always grows if we start from 0 -> upper"
   ]
  },
  {
   "cell_type": "code",
   "execution_count": null,
   "id": "0dcbfe59-d6d8-4c33-bb36-4a0638cfcd30",
   "metadata": {},
   "outputs": [],
   "source": [
    "# TODO: continue from here when you come back to hacking!\n",
    "# POTENTIAL IDEA -> See if we can find a way to converge quicker to the right tuple\n",
    "# EXAMPLE : (0, 68, 193, 423)\n",
    "#           the previous biggest tuple was (0, 57, 162, 355) distances -> (57, 105, 193, 355)\n",
    "#           so we can start from b -> a + 57,\n",
    "#                                 c -> b + 105\n",
    "#                                  d -> c + 193"
   ]
  }
 ],
 "metadata": {
  "kernelspec": {
   "display_name": "Python 3 (ipykernel)",
   "language": "python",
   "name": "python3"
  },
  "language_info": {
   "codemirror_mode": {
    "name": "ipython",
    "version": 3
   },
   "file_extension": ".py",
   "mimetype": "text/x-python",
   "name": "python",
   "nbconvert_exporter": "python",
   "pygments_lexer": "ipython3",
   "version": "3.9.7"
  }
 },
 "nbformat": 4,
 "nbformat_minor": 5
}
