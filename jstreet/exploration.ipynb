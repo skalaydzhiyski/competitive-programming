{
 "cells": [
  {
   "cell_type": "code",
   "execution_count": 2,
   "id": "15d7413f-77d3-4123-b4ae-64ccddf571a7",
   "metadata": {},
   "outputs": [],
   "source": [
    "import numpy as np\n",
    "import matplotlib.pyplot as plt\n",
    "from collections import defaultdict"
   ]
  },
  {
   "cell_type": "code",
   "execution_count": 6,
   "id": "3c49a039-9005-449b-a25e-ca26f858916e",
   "metadata": {},
   "outputs": [],
   "source": [
    "def step(corners):\n",
    "    new = corners.copy()\n",
    "    new[0] = abs(corners[0] - corners[1])\n",
    "    new[1] = abs(corners[1] - corners[2])\n",
    "    new[2] = abs(corners[2] - corners[3])\n",
    "    new[3] = abs(corners[3] - corners[0])\n",
    "    return new"
   ]
  },
  {
   "cell_type": "code",
   "execution_count": 7,
   "id": "11730006-87f6-4946-95b8-b4ca96f6eead",
   "metadata": {},
   "outputs": [],
   "source": [
    "def f(corners, verbose=False):\n",
    "    x = corners\n",
    "    res = 0\n",
    "    while x != [0,0,0,0]:\n",
    "        x = step(x)\n",
    "        res += 1\n",
    "        if verbose: print(x)\n",
    "    return res + 1"
   ]
  },
  {
   "cell_type": "code",
   "execution_count": 8,
   "id": "f7531688-8b07-47ff-9677-290dab11bcd5",
   "metadata": {},
   "outputs": [],
   "source": [
    "def plot_test():\n",
    "    res = []\n",
    "    for x in range(1000):\n",
    "        x = [0,1,2,x]\n",
    "        fx = f(x)\n",
    "        print(x, fx)\n",
    "        res.append(fx)\n",
    "    plt.plot(res)"
   ]
  },
  {
   "cell_type": "code",
   "execution_count": 43,
   "id": "e9d8cfe6-1958-4c47-b897-850704901e20",
   "metadata": {},
   "outputs": [
    {
     "name": "stdout",
     "output_type": "stream",
     "text": [
      "[0, 0, 0, 0] \tfx =  1\n",
      "[0, 0, 0, 1] \tfx =  5\n",
      "[0, 0, 1, 3] \tfx =  7\n",
      "[0, 1, 2, 4] \tfx =  8\n",
      "[0, 1, 4, 9] \tfx =  9\n",
      "[0, 2, 5, 11] \tfx =  10\n",
      "[0, 2, 6, 13] \tfx =  11\n"
     ]
    }
   ],
   "source": [
    "m = ([], 0)\n",
    "upper = 30\n",
    "for a in range(upper):\n",
    "    for b in range(upper):\n",
    "        for c in range(upper):\n",
    "            for d in range(upper):\n",
    "                x = [a,b,c,d]\n",
    "                fx = f(x)\n",
    "                if fx > m[1]:\n",
    "                    m = (x, fx)\n",
    "                    print(x, '\\tfx = ', fx)"
   ]
  },
  {
   "cell_type": "markdown",
   "id": "7d42ed00-a8f8-4eca-b123-083ab835e25b",
   "metadata": {},
   "source": [
    "### IMPORTANT (Laws of equality of `f`)!\n",
    "Regardless of the rotation of the numbers we still get the same value for f!\n",
    "\n",
    "Example: f(0,2,6,13) = f(2,6,13,0) = f(6,13,0,2) = f(13,0,2,6)\n",
    "\n",
    "---\n",
    "\n",
    "Regardless of order (forward or backward) we get the same value for f!\n",
    "\n",
    "Example: f(0,2,6,13) = f(13,6,2,0)\n",
    "\n",
    "---\n",
    "\n",
    "Combining both laws we get\n",
    "                    normal order                              reverse order\n",
    "f(0,2,6,13) = f(2,6,13,0) = f(6,13,0,2) = f(13,0,2,6)  =  f(13,6,2,0) = f(6,2,0,13) = ..."
   ]
  },
  {
   "cell_type": "code",
   "execution_count": 66,
   "id": "b3941d15-42ae-42cf-a43a-107bacdfa74c",
   "metadata": {},
   "outputs": [
    {
     "name": "stdout",
     "output_type": "stream",
     "text": [
      "11\n",
      "11\n",
      "11\n",
      "11\n",
      "11\n",
      "11\n",
      "11\n",
      "11\n",
      "This should drastically reduce the search space, so please have a look :)\n"
     ]
    }
   ],
   "source": [
    "tests = [\n",
    "    [0,2,6,13],\n",
    "    [2,6,13,0],\n",
    "    [6,13,0,2],\n",
    "    [13,0,2,6],\n",
    "    # flips retain value for `f`\n",
    "    [13,6,2,0],\n",
    "    [6,2,0,13],\n",
    "    [2,0,13,6],\n",
    "    [0,13,6,2]\n",
    "]\n",
    "for t in tests:\n",
    "    print(f(t))\n",
    "print('This should drastically reduce the search space, so please have a look :)')"
   ]
  },
  {
   "cell_type": "code",
   "execution_count": 77,
   "id": "7deaf072-826c-4ec4-9a3d-2742e2fbb4c5",
   "metadata": {},
   "outputs": [
    {
     "name": "stdout",
     "output_type": "stream",
     "text": [
      "True\n",
      "True\n"
     ]
    }
   ],
   "source": [
    "print(\n",
    "    f([1,2,3,4]) == f([4,3,2,1])\n",
    ")\n",
    "print(\n",
    "    f([1,2,3,4]) == f([1001, 1002, 1003, 1004])\n",
    ")"
   ]
  },
  {
   "cell_type": "markdown",
   "id": "9fa4a57a-ed2d-4af9-8d01-f8d6dc2f452a",
   "metadata": {},
   "source": [
    "### IMPORTANT: Distances matter, not the values themselves !"
   ]
  },
  {
   "cell_type": "code",
   "execution_count": 80,
   "id": "36dd480d-51d6-46a6-bc03-a0eeae51f9e0",
   "metadata": {},
   "outputs": [
    {
     "name": "stdout",
     "output_type": "stream",
     "text": [
      "True\n",
      "True\n"
     ]
    }
   ],
   "source": [
    "print(\n",
    "    f([1,2,3,4]) == f([4,3,2,1])\n",
    ")\n",
    "print(\n",
    "    f([1,2,3,4]) == f([9999995, 9999996, 9999997, 9999998])\n",
    ")"
   ]
  },
  {
   "cell_type": "code",
   "execution_count": 201,
   "id": "a2f07b5a-96e1-4d79-ac92-fea437593701",
   "metadata": {},
   "outputs": [],
   "source": [
    "# All that matters is what a given pair reduces down to following the steps rule!"
   ]
  },
  {
   "cell_type": "code",
   "execution_count": 215,
   "id": "3159816d-4f0f-4a96-85fa-186d83a22798",
   "metadata": {},
   "outputs": [],
   "source": [
    "# TODO: make sure you figure out to reduce the search space with the rules above !"
   ]
  },
  {
   "cell_type": "code",
   "execution_count": null,
   "id": "b42009c4-b185-48e7-bac1-a4f4245895a8",
   "metadata": {},
   "outputs": [],
   "source": []
  }
 ],
 "metadata": {
  "kernelspec": {
   "display_name": "Python 3 (ipykernel)",
   "language": "python",
   "name": "python3"
  },
  "language_info": {
   "codemirror_mode": {
    "name": "ipython",
    "version": 3
   },
   "file_extension": ".py",
   "mimetype": "text/x-python",
   "name": "python",
   "nbconvert_exporter": "python",
   "pygments_lexer": "ipython3",
   "version": "3.9.5"
  }
 },
 "nbformat": 4,
 "nbformat_minor": 5
}
